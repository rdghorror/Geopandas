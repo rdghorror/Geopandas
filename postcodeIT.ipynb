{
 "cells": [
  {
   "cell_type": "code",
   "execution_count": 1,
   "metadata": {},
   "outputs": [],
   "source": [
    "#Headers\n",
    "import pandas as pd\n",
    "import geopandas as gp\n",
    "import matplotlib.pyplot as plt\n",
    "from geopandas import GeoDataFrame\n",
    "from shapely.geometry import Point"
   ]
  },
  {
   "cell_type": "code",
   "execution_count": null,
   "metadata": {},
   "outputs": [],
   "source": [
    "#Import Shape files\n",
    "map_df_Area = gp.read_file(\"Areas.shp\")\n",
    "map_df_District = gp.read_file(\"Districts.shp\")\n",
    "map_df_Sector = gp.read_file(\"Sectors.shp\")"
   ]
  },
  {
   "cell_type": "code",
   "execution_count": null,
   "metadata": {},
   "outputs": [],
   "source": [
    "#Import and convert raw data to SHP POINTS\n",
    "data_df = pd.read_csv('geodat.csv')\n",
    "geometry = [Point(xy) for xy in zip(data_df.Lon, data_df.Lat)]\n",
    "crs = {'init': 'epsg:4326'}\n",
    "gdf = GeoDataFrame(data_df, crs=crs, geometry=geometry)"
   ]
  },
  {
   "cell_type": "code",
   "execution_count": null,
   "metadata": {},
   "outputs": [],
   "source": [
    "#SJOIN to add postcode data to raw\n",
    "points_with_Area = gp.sjoin(gdf, map_df_Area, how=\"inner\", op=\"intersects\")\n",
    "points_with_Area.rename(columns = {'name_right':'name'}, inplace = True) \n",
    "points_with_District = gp.sjoin(gdf, map_df_District, how=\"inner\", op=\"intersects\")\n",
    "points_with_District.rename(columns = {'name_right':'name'}, inplace = True) \n",
    "points_with_Sector = gp.sjoin(gdf, map_df_Sector, how=\"inner\", op=\"intersects\")\n",
    "points_with_Sector.rename(columns = {'name_right':'name'}, inplace = True)"
   ]
  },
  {
   "cell_type": "code",
   "execution_count": null,
   "metadata": {},
   "outputs": [],
   "source": [
    "#Run some counts for outputted raw data\n",
    "count_Sector = points_with_Area.groupby('name').count()\n",
    "count_Sector.to_csv('count_Area.csv')"
   ]
  },
  {
   "cell_type": "code",
   "execution_count": null,
   "metadata": {},
   "outputs": [],
   "source": [
    "#Run some counts for outputted raw data\n",
    "count_Sector = points_with_District.groupby('name').count()\n",
    "count_Sector.to_csv('count_District.csv')"
   ]
  },
  {
   "cell_type": "code",
   "execution_count": null,
   "metadata": {},
   "outputs": [],
   "source": [
    "#Run some counts for outputted raw data\n",
    "count_Sector = points_with_Sector.groupby('name').count()\n",
    "count_Sector.to_csv('count_Sector.csv')"
   ]
  }
 ],
 "metadata": {
  "kernelspec": {
   "display_name": "Python 3",
   "language": "python",
   "name": "python3"
  },
  "language_info": {
   "codemirror_mode": {
    "name": "ipython",
    "version": 3
   },
   "file_extension": ".py",
   "mimetype": "text/x-python",
   "name": "python",
   "nbconvert_exporter": "python",
   "pygments_lexer": "ipython3",
   "version": "3.7.8"
  }
 },
 "nbformat": 4,
 "nbformat_minor": 4
}
